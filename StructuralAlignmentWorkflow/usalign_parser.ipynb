{
 "cells": [
  {
   "cell_type": "markdown",
   "id": "92beb59f",
   "metadata": {},
   "source": [
    "[![Open In Colab](https://colab.research.google.com/assets/colab-badge.svg)](https://colab.research.google.com/github/BSDExabio/SAFA/blob/main/StructuralAlignmentWorkflow/usalign_parser.ipynb)"
   ]
  },
  {
   "cell_type": "markdown",
   "id": "deca79e1",
   "metadata": {},
   "source": [
    "# Overview of the `usalign_parser` functions\n",
    "The functions in the `usalign_parser` module file were developed to gather the relevant quantitative information reported from US-align2 for specific use cases that are presented in `./USalignParser/examples/automate_alnments.sh` and the `runUSalign*sh` bash scripts. One simple example of these bash scripts is shown below:"
   ]
  },
  {
   "cell_type": "markdown",
   "id": "30d39b11",
   "metadata": {},
   "source": [
    "```bash\n",
    "USALIGN_HOME=~/Apps/USalign/\n",
    "PDB_PATH=./USalignParser/examples/\n",
    "$USALIGN_HOME/USalign $PDB_PATH/3cna_rcsb.pdb $PDB_PATH/2pel_rcsb.pdb -ter 2 -m temp.dat -outfmt 0 -mm 6 \n",
    "cat temp.dat\n",
    "rm temp.dat\n",
    "```"
   ]
  },
  {
   "cell_type": "markdown",
   "id": "619b7ee5",
   "metadata": {},
   "source": [
    "The intent for these bash scripts are to perform a structural alignment between two single-chain protein structures and gather all relevant information, including the alignment mapping between the two structures (when provided). US-align2 parameters set in these bash scripts are `-ter 2` (only align the first chain in both structure files), ``-m temp.dat`` (write the translation and rotation matrix to file `temp.dat`), and `-outfmt 0` (write the log file in original format). All other parameters are using default values. \n",
    "\n",
    "For these bash scripts, the US-align2 output (`-outfmt 0`) is printed to standard out. This is specifically done because these scripts are used in `subprocess.run` calls within the dask client script, where the standard out is gathered without any IO to storage space. Unfortunately, the designed behavior of US-align2 for reporting the translation and rotation matrix (`-m` parameter) is to write that data to file. To work around this, a temporary file is written, containing the translation and rotation matrix, that is subsequently concatenated to the bottom of the standard out and deleted. This is done within the bash scripts so the standard out variable from the `subprocess.run` contains all important output from the US-align2 calculation.\n",
    "\n",
    "Finally, the `-mm` parameter is set to different values depending on the alignment algorithm to be used. There are four `-mm` settings that are most relevant to our use-case: `0` sets the sequential (SQ) alignment algorithm,`3` sets the circular permutation (CP) algorithm, `5` sets the fully-non-sequential (fNS) algorithm, and `6` sets the semi-non-sequential (sNS) algorithm. All four settings share the same format for the majority of the output/log file, specifically where alignment quality metrics are reported. Importantly, the CP, fNS, and sNS methods also report the alignment mapping between target and query structures.\n"
   ]
  },
  {
   "cell_type": "code",
   "execution_count": 2,
   "id": "5fd055e7",
   "metadata": {},
   "outputs": [],
   "source": [
    "from USalignParser.usalign_parser import parse_usalign_file, threshold_comparison"
   ]
  },
  {
   "cell_type": "markdown",
   "id": "00455862",
   "metadata": {},
   "source": [
    "## Parsing US-align2 alignment result files\n",
    "The ``usalign_parser.parse_usalign_file`` function gathers all relevant information from the above described methods' log files and returns a data structure for further analysis. Below, the example files are parsed and the resulting objects are presented for consideration. "
   ]
  },
  {
   "cell_type": "markdown",
   "id": "714c2441",
   "metadata": {},
   "source": [
    "### Sequentially-dependent Alignment Algorithm"
   ]
  },
  {
   "cell_type": "markdown",
   "id": "46ddd6d8",
   "metadata": {},
   "source": [
    "Without a translation and rotation matrix written to the log file:"
   ]
  },
  {
   "cell_type": "code",
   "execution_count": 3,
   "id": "b13141a0",
   "metadata": {
    "scrolled": false
   },
   "outputs": [
    {
     "name": "stderr",
     "output_type": "stream",
     "text": [
      "'' not expected by parser function. Only returning alignment quantitative metrics. No mapping.\n"
     ]
    },
    {
     "name": "stdout",
     "output_type": "stream",
     "text": [
      "Parsing the log file took 0.007493734359741211 with return code 1.\n",
      "\n",
      "query structure:  ./3cna_rcsb.pdb: chain A, length: 237.0 residues\n",
      "target structure: ./2pel_rcsb.pdb: chain A, length: 232.0 residues\n",
      "\n",
      "Aligned length: 118.0, RMSD = 1.63 Angstroms, Sequence identity of aligned residues = 0.432\n",
      "TM-score1 = 0.47057, normalized by query  length and d0 = 5.71\n",
      "TM-score2 = 0.48028, normalized by target length and d0 = 5.65\n",
      "The average TMscore is 0.475425.\n"
     ]
    }
   ],
   "source": [
    "log_file = './USalignParser/examples/example_output/3cnaA_to_2pelA_USalign_SQ_noTransRotMat.log'\n",
    "with open(log_file,'r') as log:\n",
    "    result_dict, start, stop, return_code = parse_usalign_file(log,'')\n",
    "print(f\"Parsing the log file took {stop-start} with return code {return_code}.\\n\")\n",
    "\n",
    "print(f\"query structure:  {result_dict['struct1']}: chain {result_dict['struct1_chainID']}, length: {result_dict['Len1']} residues\")\n",
    "print(f\"target structure: {result_dict['struct2']}: chain {result_dict['struct2_chainID']}, length: {result_dict['Len2']} residues\\n\")\n",
    "\n",
    "print(f\"Aligned length: {result_dict['LenAligned']}, RMSD = {result_dict['RMSD']} Angstroms, Sequence identity of aligned residues = {result_dict['SeqIDAli']}\")\n",
    "print(f\"TM-score1 = {result_dict['TMscore1']}, normalized by query  length and d0 = {result_dict['d0_1']}\")\n",
    "print(f\"TM-score2 = {result_dict['TMscore2']}, normalized by target length and d0 = {result_dict['d0_2']}\")\n",
    "\n",
    "print(f\"The average TMscore is {(result_dict['TMscore1']+result_dict['TMscore2'])/2.}.\")"
   ]
  },
  {
   "cell_type": "markdown",
   "id": "d3774da7",
   "metadata": {},
   "source": [
    "With a translation and rotation matrix written to the log file:"
   ]
  },
  {
   "cell_type": "code",
   "execution_count": 4,
   "id": "fddc38e3",
   "metadata": {
    "scrolled": false
   },
   "outputs": [
    {
     "name": "stderr",
     "output_type": "stream",
     "text": [
      "'' not expected by parser function. Only returning alignment quantitative metrics. No mapping.\n"
     ]
    },
    {
     "name": "stdout",
     "output_type": "stream",
     "text": [
      "Parsing the log file took 0.0057103633880615234 with return code 1.\n",
      "\n",
      "query structure:  ./3cna_rcsb.pdb: chain A, length: 237.0 residues\n",
      "target structure: ./2pel_rcsb.pdb: chain A, length: 232.0 residues\n",
      "\n",
      "Aligned length: 118.0, RMSD = 1.63 Angstroms, Sequence identity of aligned residues = 0.432\n",
      "TM-score1 = 0.47057, normalized by query  length and d0 = 5.71\n",
      "TM-score2 = 0.48028, normalized by target length and d0 = 5.65\n",
      "The average TMscore is 0.475425.\n",
      "\n",
      "Translational degrees of freedom vector: [29.61731488  4.98254133 36.53334062]\n",
      "Rotational degrees of freedom matrix: [[ 0.08032842 -0.11836715  0.98971539]\n",
      " [ 0.99614362 -0.02561858 -0.08391407]\n",
      " [ 0.03528777  0.99263936  0.11585278]]\n"
     ]
    }
   ],
   "source": [
    "log_file = './USalignParser/examples/example_output/3cnaA_to_2pelA_USalign_SQ.log'\n",
    "with open(log_file,'r') as log:\n",
    "    result_dict, start, stop, return_code = parse_usalign_file(log,'')\n",
    "print(f\"Parsing the log file took {stop-start} with return code {return_code}.\\n\")\n",
    "\n",
    "print(f\"query structure:  {result_dict['struct1']}: chain {result_dict['struct1_chainID']}, length: {result_dict['Len1']} residues\")\n",
    "print(f\"target structure: {result_dict['struct2']}: chain {result_dict['struct2_chainID']}, length: {result_dict['Len2']} residues\\n\")\n",
    "\n",
    "print(f\"Aligned length: {result_dict['LenAligned']}, RMSD = {result_dict['RMSD']} Angstroms, Sequence identity of aligned residues = {result_dict['SeqIDAli']}\")\n",
    "print(f\"TM-score1 = {result_dict['TMscore1']}, normalized by query  length and d0 = {result_dict['d0_1']}\")\n",
    "print(f\"TM-score2 = {result_dict['TMscore2']}, normalized by target length and d0 = {result_dict['d0_2']}\")\n",
    "\n",
    "print(f\"The average TMscore is {(result_dict['TMscore1']+result_dict['TMscore2'])/2.}.\\n\")\n",
    "\n",
    "print(f\"Translational degrees of freedom vector: {result_dict['trans_vector']}\")\n",
    "print(f\"Rotational degrees of freedom matrix: {result_dict['rot_matrix']}\")"
   ]
  },
  {
   "cell_type": "markdown",
   "id": "f3c26b4d",
   "metadata": {},
   "source": [
    "In the latter example, the translation and rotational matrix was parsed. This data is necessary for recreating the alignment between the two structures.\n",
    "\n",
    "For both, a return code of 1 means that no alignment mapping between the two structures was parsed."
   ]
  },
  {
   "cell_type": "markdown",
   "id": "8c217411",
   "metadata": {},
   "source": [
    "### Circular Permutation Alignment Algorithm"
   ]
  },
  {
   "cell_type": "code",
   "execution_count": 5,
   "id": "1235f432",
   "metadata": {
    "scrolled": true
   },
   "outputs": [
    {
     "name": "stdout",
     "output_type": "stream",
     "text": [
      "Parsing the log file took 0.0063784122467041016 with return code 0.\n",
      "\n",
      "query structure:  ./3cna_rcsb.pdb: chain A, length: 237.0 residues\n",
      "target structure: ./2pel_rcsb.pdb: chain A, length: 232.0 residues\n",
      "\n",
      "Aligned length: 228.0, RMSD = 1.93 Angstroms, Sequence identity of aligned residues = 0.408\n",
      "TM-score1 = 0.89129, normalized by query  length and d0 = 5.71\n",
      "TM-score2 = 0.90943, normalized by target length and d0 = 5.65\n",
      "The average TMscore is 0.90036.\n",
      "\n",
      "Translational degrees of freedom vector: [29.36918745  5.15412648 36.83881406]\n",
      "Rotational degrees of freedom matrix: [[ 0.07836471 -0.10453358  0.99142912]\n",
      " [ 0.99629091 -0.02724568 -0.08162171]\n",
      " [ 0.03554437  0.99414808  0.10201076]]\n",
      "\n",
      "First elements in the alignment mapping:\n",
      "[('123', ('1', 'THR', 'ALA')), ('124', ('2', 'ASP', 'GLU')), ('125', ('3', 'ALA', 'THR')), ('126', ('4', 'LEU', 'VAL')), ('127', ('5', 'HIS', 'SER')), ('128', ('6', 'PHE', 'PHE')), ('129', ('7', 'MET', 'ASN')), ('130', ('8', 'PHE', 'PHE')), ('131', ('9', 'ASN', 'ASN')), ('132', ('10', 'GLN', 'SER'))]\n"
     ]
    }
   ],
   "source": [
    "log_file = './USalignParser/examples/example_output/3cnaA_to_2pelA_USalign_CP.log'\n",
    "with open(log_file,'r') as log:\n",
    "    result_dict, start, stop, return_code = parse_usalign_file(log,'CP')\n",
    "print(f\"Parsing the log file took {stop-start} with return code {return_code}.\\n\")\n",
    "\n",
    "print(f\"query structure:  {result_dict['struct1']}: chain {result_dict['struct1_chainID']}, length: {result_dict['Len1']} residues\")\n",
    "print(f\"target structure: {result_dict['struct2']}: chain {result_dict['struct2_chainID']}, length: {result_dict['Len2']} residues\\n\")\n",
    "\n",
    "print(f\"Aligned length: {result_dict['LenAligned']}, RMSD = {result_dict['RMSD']} Angstroms, Sequence identity of aligned residues = {result_dict['SeqIDAli']}\")\n",
    "print(f\"TM-score1 = {result_dict['TMscore1']}, normalized by query  length and d0 = {result_dict['d0_1']}\")\n",
    "print(f\"TM-score2 = {result_dict['TMscore2']}, normalized by target length and d0 = {result_dict['d0_2']}\")\n",
    "\n",
    "print(f\"The average TMscore is {(result_dict['TMscore1']+result_dict['TMscore2'])/2.}.\\n\")\n",
    "\n",
    "print(f\"Translational degrees of freedom vector: {result_dict['trans_vector']}\")\n",
    "print(f\"Rotational degrees of freedom matrix: {result_dict['rot_matrix']}\\n\")\n",
    "\n",
    "print(f\"First elements in the alignment mapping:\\n{[(key, value) for key, value in result_dict['map_1_to_2'].items()][:10]}\")"
   ]
  },
  {
   "cell_type": "markdown",
   "id": "289456e6",
   "metadata": {},
   "source": [
    "The average TMscore calculated using the Circular Permutation alignment algorithm is now 0.90, compared to the 0.48 from the SQ algorithm. The CP algo also aligns 228 residues, representing nearly all residues in both target and query structures. \n",
    "\n",
    "Additionally, the CP log file also contains the mapping between query and target residues from the alignment. This mapping is key for transferal of residue-level information associated with either query or target structures. The mapping result is stored in the ``result_dict['map_1_to_2']`` dictionary object, where keys are residue index numbers for the target structure (structure_2) and values are tuples with organization (query structure residue index, target residue name, query residue name)."
   ]
  },
  {
   "cell_type": "markdown",
   "id": "6b271de0",
   "metadata": {},
   "source": [
    "### fully-non-sequential (fNS) Alignment Algorithm"
   ]
  },
  {
   "cell_type": "code",
   "execution_count": 6,
   "id": "de8e1472",
   "metadata": {
    "scrolled": false
   },
   "outputs": [
    {
     "name": "stdout",
     "output_type": "stream",
     "text": [
      "Parsing the log file took 0.0051844120025634766 with return code 0.\n",
      "\n",
      "query structure:  ./3cna_rcsb.pdb: chain A, length: 237.0 residues\n",
      "target structure: ./2pel_rcsb.pdb: chain A, length: 232.0 residues\n",
      "\n",
      "Aligned length: 228.0, RMSD = 1.9 Angstroms, Sequence identity of aligned residues = 0.408\n",
      "TM-score1 = 0.89216, normalized by query  length and d0 = 5.71\n",
      "TM-score2 = 0.91034, normalized by target length and d0 = 5.65\n",
      "The average TMscore is 0.90125.\n",
      "\n",
      "Translational degrees of freedom vector: [29.4250692   5.11414418 36.7811989 ]\n",
      "Rotational degrees of freedom matrix: [[ 0.076364   -0.10631341  0.99139598]\n",
      " [ 0.9963703  -0.02937206 -0.0798969 ]\n",
      " [ 0.03761345  0.99389876  0.10368456]]\n",
      "\n",
      "First elements in the alignment mapping:\n",
      "[('123', ('1', 'THR', 'ALA', 0.494)), ('124', ('2', 'ASP', 'GLU', 0.75)), ('125', ('3', 'ALA', 'THR', 0.263)), ('126', ('4', 'LEU', 'VAL', 0.792)), ('127', ('5', 'HIS', 'SER', 0.629)), ('128', ('6', 'PHE', 'PHE', 0.733)), ('129', ('7', 'MET', 'ASN', 1.045)), ('130', ('8', 'PHE', 'PHE', 0.73)), ('131', ('9', 'ASN', 'ASN', 2.043)), ('132', ('10', 'GLN', 'SER', 1.853))]\n"
     ]
    }
   ],
   "source": [
    "log_file = './USalignParser/examples/example_output/3cnaA_to_2pelA_USalign_fNS.log'\n",
    "with open(log_file,'r') as log:\n",
    "    result_dict, start, stop, return_code = parse_usalign_file(log,'fNS')\n",
    "print(f\"Parsing the log file took {stop-start} with return code {return_code}.\\n\")\n",
    "\n",
    "print(f\"query structure:  {result_dict['struct1']}: chain {result_dict['struct1_chainID']}, length: {result_dict['Len1']} residues\")\n",
    "print(f\"target structure: {result_dict['struct2']}: chain {result_dict['struct2_chainID']}, length: {result_dict['Len2']} residues\\n\")\n",
    "\n",
    "print(f\"Aligned length: {result_dict['LenAligned']}, RMSD = {result_dict['RMSD']} Angstroms, Sequence identity of aligned residues = {result_dict['SeqIDAli']}\")\n",
    "print(f\"TM-score1 = {result_dict['TMscore1']}, normalized by query  length and d0 = {result_dict['d0_1']}\")\n",
    "print(f\"TM-score2 = {result_dict['TMscore2']}, normalized by target length and d0 = {result_dict['d0_2']}\")\n",
    "\n",
    "print(f\"The average TMscore is {(result_dict['TMscore1']+result_dict['TMscore2'])/2.}.\\n\")\n",
    "\n",
    "print(f\"Translational degrees of freedom vector: {result_dict['trans_vector']}\")\n",
    "print(f\"Rotational degrees of freedom matrix: {result_dict['rot_matrix']}\\n\")\n",
    "\n",
    "print(f\"First elements in the alignment mapping:\\n{[(key, value) for key, value in result_dict['map_1_to_2'].items()][:10]}\")"
   ]
  },
  {
   "cell_type": "markdown",
   "id": "47148c98",
   "metadata": {},
   "source": [
    "The average TMscore calculated using the fNS alignment algorithm is 0.90 with the same alignment length as the CP algo. \n",
    "\n",
    "Similar to above, the fNS log file contains the mapping between query and target residues from the alignment. But, the mapping now includes a distance metric between the aligned residues' CA atoms; the tuple is organized as (query structure residue index, target residue name, query residue name, interatomic distance in Angstroms)."
   ]
  },
  {
   "cell_type": "markdown",
   "id": "f9a55429",
   "metadata": {},
   "source": [
    "### Semi-non-sequential (sNS) Alignment Algorithm"
   ]
  },
  {
   "cell_type": "code",
   "execution_count": 7,
   "id": "94114c47",
   "metadata": {
    "scrolled": false
   },
   "outputs": [
    {
     "name": "stdout",
     "output_type": "stream",
     "text": [
      "Parsing the log file took 0.000957489013671875 with return code 0.\n",
      "\n",
      "query structure:  ./3cna_rcsb.pdb: chain A, length: 237.0 residues\n",
      "target structure: ./2pel_rcsb.pdb: chain A, length: 232.0 residues\n",
      "\n",
      "Aligned length: 228.0, RMSD = 1.93 Angstroms, Sequence identity of aligned residues = 0.408\n",
      "TM-score1 = 0.89227, normalized by query  length and d0 = 5.71\n",
      "TM-score2 = 0.91045, normalized by target length and d0 = 5.65\n",
      "The average TMscore is 0.9013599999999999.\n",
      "\n",
      "Translational degrees of freedom vector: [29.39467542  5.1576287  36.81035094]\n",
      "Rotational degrees of freedom matrix: [[ 0.07966211 -0.10571238  0.99120071]\n",
      " [ 0.99616087 -0.02776471 -0.08302188]\n",
      " [ 0.03629684  0.99400906  0.10309474]]\n",
      "\n",
      "First elements in the alignment mapping:\n",
      "[('123', ('1', 'THR', 'ALA', 0.42)), ('124', ('2', 'ASP', 'GLU', 0.677)), ('125', ('3', 'ALA', 'THR', 0.254)), ('126', ('4', 'LEU', 'VAL', 0.749)), ('127', ('5', 'HIS', 'SER', 0.606)), ('128', ('6', 'PHE', 'PHE', 0.71)), ('129', ('7', 'MET', 'ASN', 1.052)), ('130', ('8', 'PHE', 'PHE', 0.73)), ('131', ('9', 'ASN', 'ASN', 2.037)), ('132', ('10', 'GLN', 'SER', 1.845))]\n"
     ]
    }
   ],
   "source": [
    "log_file = './USalignParser/examples/example_output/3cnaA_to_2pelA_USalign_sNS.log'\n",
    "with open(log_file,'r') as log:\n",
    "    result_dict, start, stop, return_code = parse_usalign_file(log,'sNS')\n",
    "print(f\"Parsing the log file took {stop-start} with return code {return_code}.\\n\")\n",
    "\n",
    "print(f\"query structure:  {result_dict['struct1']}: chain {result_dict['struct1_chainID']}, length: {result_dict['Len1']} residues\")\n",
    "print(f\"target structure: {result_dict['struct2']}: chain {result_dict['struct2_chainID']}, length: {result_dict['Len2']} residues\\n\")\n",
    "\n",
    "print(f\"Aligned length: {result_dict['LenAligned']}, RMSD = {result_dict['RMSD']} Angstroms, Sequence identity of aligned residues = {result_dict['SeqIDAli']}\")\n",
    "print(f\"TM-score1 = {result_dict['TMscore1']}, normalized by query  length and d0 = {result_dict['d0_1']}\")\n",
    "print(f\"TM-score2 = {result_dict['TMscore2']}, normalized by target length and d0 = {result_dict['d0_2']}\")\n",
    "\n",
    "print(f\"The average TMscore is {(result_dict['TMscore1']+result_dict['TMscore2'])/2.}.\\n\")\n",
    "\n",
    "print(f\"Translational degrees of freedom vector: {result_dict['trans_vector']}\")\n",
    "print(f\"Rotational degrees of freedom matrix: {result_dict['rot_matrix']}\\n\")\n",
    "\n",
    "print(f\"First elements in the alignment mapping:\\n{[(key, value) for key, value in result_dict['map_1_to_2'].items()][:10]}\")"
   ]
  },
  {
   "cell_type": "markdown",
   "id": "6f576df5",
   "metadata": {},
   "source": [
    "The alignment obtained from the sNS algorithm is of similar quality to the fNS alignment. The mapping has the same formatting as well. "
   ]
  },
  {
   "cell_type": "markdown",
   "id": "2c903d1b",
   "metadata": {},
   "source": [
    "## Applying a metric cutoff to determine whether an alignment is high quality\n",
    "\n",
    "When running a large number of alignments (we're talking thousands to billions), we do not want to save all results to file. Instead, the above ``parse_usalign_file`` function can be used to parse a string (as if it were  a file). Then, we can judge whether the alignment results interesting and should be written to storage. Below is an example:"
   ]
  },
  {
   "cell_type": "code",
   "execution_count": 8,
   "id": "fb34d46c",
   "metadata": {},
   "outputs": [
    {
     "name": "stdout",
     "output_type": "stream",
     "text": [
      "\n",
      " ********************************************************************\n",
      " * US-align (Version 20220924)                                      *\n",
      " * Universal Structure Alignment of Proteins and Nucleic Acids      *\n",
      " * Reference: C Zhang, M Shine, AM Pyle, Y Zhang. (2022) Nat Methods*\n",
      " * Please email comments and suggestions to yangzhanglab@umich.edu  *\n",
      " ********************************************************************\n",
      "\n",
      "Name of Structure_1: ./3cna_rcsb.pdb:A (to be superimposed onto Structure_2)\n",
      "Name of Structure_2: ./2pel_rcsb.pdb:A\n",
      "Length of Structure_1: 237 residues\n",
      "Length of Structure_2: 232 residues\n",
      "\n",
      "Aligned length= 228, RMSD=   1.93, Seq_ID=n_identical/n_aligned= 0.408\n",
      "TM-score= 0.89227 (normalized by length of Structure_1: L=237, d0=5.71)\n",
      "TM-score= 0.91045 (normalized by length of Structure_2: L=232, d0=5.65)\n",
      "(You should use TM-score normalized by length of the reference structure)\n",
      "\n",
      "(\":\" denotes residue pairs of d < 5.0 Angstrom, \".\" denotes other aligned residues)\n",
      "TDALHFMFNQFSKDQKDLILQGDATTGTDGNLELTRVPES-SVGRALFYAPVHIWE-SSAATVSFEATFAFLIKSPD-SHPADGIAFFISNIDSSIP-SSGTGRLLGLFPDANADTIVAVELDTYPNTDIGDPSYPHIGIDIKSVRSKKTAKWNMQDGKVGTAHIIYNSVDKRLSAVVSYPANDATSVSYDVDLNDVLPEWVRVGLSASTGGLYKETNTILSWSFTSKLKSNSTHQSSNGS\n",
      ":::::::::::::::::::::::::::::::::::::..: ::::::::::::::: ::.:.::::::::::::::. .:::::::::::::::::: :::::::::::::::..::::::::::::::::::::::::::::::::::::::::::::::::::::::::::::::::::::::::::::::::::::::::::::::::.::::::::::::::::::.:         \n",
      "AETVSFNFNSFSEGNPAINFQGDVTVLSNGNIQLTNLNKVNSVGRVLYAMPVRIWSSATGNVASFLTSFSFEMKDIKDYDPADGIIFFIAPEDTQIPAGSIGGGTLGVSDTKGAGHFVGVEFDTYSNSEYNDPPTDHVGIDVNSVDSVKTVPWNSVSGAVVKVTVIYDSSTKTLSVAVTNDNGDITTIAQVVDLKAKLPERVKFGFSASGSLGGRQIHLIRSWSFTSTLITT---------\n",
      "\n",
      "###############\t###############\t#########\n",
      "#Aligned atom 1\tAligned atom 2 \tDistance#\n",
      " CA  THR A 123 \t CA  ALA A   1 \t    0.420\n",
      " CA  ASP A 124 \t CA  GLU A   2 \t    0.677\n",
      " CA  ALA A 125 \t CA  THR A   3 \t    0.254\n",
      " CA  LEU A 126 \t CA  VAL A   4 \t    0.749\n",
      " CA  HIS A 127 \t CA  SER A   5 \t    0.606\n",
      " CA  PHE A 128 \t CA  PHE A   6 \t    0.710\n",
      " CA  MET A 129 \t CA  ASN A   7 \t    1.052\n",
      " CA  PHE A 130 \t CA  PHE A   8 \t    0.730\n",
      " CA  ASN A 131 \t CA  ASN A   9 \t    2.037\n",
      " CA  GLN A 132 \t CA  SER A  10 \t    1.845\n",
      " CA  PHE A 133 \t CA  PHE A  11 \t    1.145\n",
      " CA  SER A 134 \t CA  SER A  12 \t    1.580\n",
      " CA  LYS A 135 \t CA  GLU A  13 \t    1.677\n",
      " CA  ASP A 136 \t CA  GLY A  14 \t    1.634\n",
      " CA  GLN A 137 \t CA  ASN A  15 \t    2.006\n",
      " CA  LYS A 138 \t CA  PRO A  16 \t    1.891\n",
      " CA  ASP A 139 \t CA  ALA A  17 \t    1.052\n",
      " CA  LEU A 140 \t CA  ILE A  18 \t    0.451\n",
      " CA  ILE A 141 \t CA  ASN A  19 \t    0.635\n",
      " CA  LEU A 142 \t CA  PHE A  20 \t    0.275\n",
      " CA  GLN A 143 \t CA  GLN A  21 \t    0.519\n",
      " CA  GLY A 144 \t CA  GLY A  22 \t    0.452\n",
      " CA  ASP A 145 \t CA  ASP A  23 \t    0.478\n",
      " CA  ALA A 146 \t CA  VAL A  24 \t    0.683\n",
      " CA  THR A 147 \t CA  THR A  25 \t    1.184\n",
      " CA  THR A 148 \t CA  VAL A  26 \t    1.463\n",
      " CA  GLY A 149 \t CA  LEU A  27 \t    3.480\n",
      " CA  THR A 150 \t CA  SER A  28 \t    2.513\n",
      " CA  ASP A 151 \t CA  ASN A  29 \t    0.999\n",
      " CA  GLY A 152 \t CA  GLY A  30 \t    1.082\n",
      " CA  ASN A 153 \t CA  ASN A  31 \t    0.915\n",
      " CA  LEU A 154 \t CA  ILE A  32 \t    1.238\n",
      " CA  GLU A 155 \t CA  GLN A  33 \t    1.253\n",
      " CA  LEU A 156 \t CA  LEU A  34 \t    1.024\n",
      " CA  THR A 157 \t CA  THR A  35 \t    1.114\n",
      " CA  ARG A 158 \t CA  ASN A  36 \t    1.251\n",
      " CA  VAL A 159 \t CA  LEU A  37 \t    4.062\n",
      " CA  PRO A 165 \t CA  ASN A  38 \t    6.455\n",
      " CA  GLU A 166 \t CA  LYS A  39 \t    5.365\n",
      " CA  SER A 168 \t CA  VAL A  40 \t    2.663\n",
      " CA  SER A 169 \t CA  SER A  42 \t    1.138\n",
      " CA  VAL A 170 \t CA  VAL A  43 \t    0.868\n",
      " CA  GLY A 171 \t CA  GLY A  44 \t    0.817\n",
      " CA  ARG A 172 \t CA  ARG A  45 \t    0.472\n",
      " CA  ALA A 173 \t CA  VAL A  46 \t    0.686\n",
      " CA  LEU A 174 \t CA  LEU A  47 \t    0.759\n",
      " CA  PHE A 175 \t CA  TYR A  48 \t    1.266\n",
      " CA  TYR A 176 \t CA  ALA A  49 \t    1.146\n",
      " CA  ALA A 177 \t CA  MET A  50 \t    0.625\n",
      " CA  PRO A 178 \t CA  PRO A  51 \t    0.892\n",
      " CA  VAL A 179 \t CA  VAL A  52 \t    0.282\n",
      " CA  HIS A 180 \t CA  ARG A  53 \t    1.002\n",
      " CA  ILE A 181 \t CA  ILE A  54 \t    1.150\n",
      " CA  TRP A 182 \t CA  TRP A  55 \t    1.298\n",
      " CA  GLU A 183 \t CA  SER A  56 \t    2.268\n",
      " CA  SER A 184 \t CA  ALA A  58 \t    2.631\n",
      " CA  SER A 185 \t CA  THR A  59 \t    3.041\n",
      " CA  ALA A 187 \t CA  GLY A  60 \t    6.310\n",
      " CA  ALA A 186 \t CA  ASN A  61 \t    2.229\n",
      " CA  THR A 188 \t CA  VAL A  62 \t    5.334\n",
      " CA  VAL A 189 \t CA  ALA A  63 \t    1.688\n",
      " CA  SER A 190 \t CA  SER A  64 \t    0.719\n",
      " CA  PHE A 191 \t CA  PHE A  65 \t    0.843\n",
      " CA  GLU A 192 \t CA  LEU A  66 \t    1.622\n",
      " CA  ALA A 193 \t CA  THR A  67 \t    1.915\n",
      " CA  THR A 194 \t CA  SER A  68 \t    1.334\n",
      " CA  PHE A 195 \t CA  PHE A  69 \t    1.026\n",
      " CA  ALA A 196 \t CA  SER A  70 \t    0.951\n",
      " CA  PHE A 197 \t CA  PHE A  71 \t    0.768\n",
      " CA  LEU A 198 \t CA  GLU A  72 \t    1.452\n",
      " CA  ILE A 199 \t CA  MET A  73 \t    1.203\n",
      " CA  LYS A 200 \t CA  LYS A  74 \t    0.997\n",
      " CA  SER A 201 \t CA  ASP A  75 \t    0.425\n",
      " CA  PRO A 202 \t CA  ILE A  76 \t    3.167\n",
      " CA  ASP A 203 \t CA  LYS A  77 \t    5.108\n",
      " CA  SER A 204 \t CA  TYR A  79 \t    8.181\n",
      " CA  HIS A 205 \t CA  ASP A  80 \t    4.200\n",
      " CA  PRO A 206 \t CA  PRO A  81 \t    1.419\n",
      " CA  ALA A 207 \t CA  ALA A  82 \t    0.789\n",
      " CA  ASP A 208 \t CA  ASP A  83 \t    0.599\n",
      " CA  GLY A 209 \t CA  GLY A  84 \t    0.293\n",
      " CA  ILE A 210 \t CA  ILE A  85 \t    0.377\n",
      " CA  ALA A 211 \t CA  ILE A  86 \t    1.018\n",
      " CA  PHE A 212 \t CA  PHE A  87 \t    0.726\n",
      " CA  PHE A 213 \t CA  PHE A  88 \t    0.654\n",
      " CA  ILE A 214 \t CA  ILE A  89 \t    1.027\n",
      " CA  SER A 215 \t CA  ALA A  90 \t    0.915\n",
      " CA  ASN A 216 \t CA  PRO A  91 \t    1.615\n",
      " CA  ILE A 217 \t CA  GLU A  92 \t    1.758\n",
      " CA  ASP A 218 \t CA  ASP A  93 \t    1.675\n",
      " CA  SER A 219 \t CA  THR A  94 \t    1.156\n",
      " CA  SER A 220 \t CA  GLN A  95 \t    1.060\n",
      " CA  ILE A 221 \t CA  ILE A  96 \t    0.200\n",
      " CA  PRO A 222 \t CA  PRO A  97 \t    1.762\n",
      " CA  SER A 223 \t CA  GLY A  99 \t    2.420\n",
      " CA  SER A 225 \t CA  SER A 100 \t    3.728\n",
      " CA  GLY A 224 \t CA  ILE A 101 \t    2.412\n",
      " CA  THR A 226 \t CA  GLY A 102 \t    0.572\n",
      " CA  GLY A 227 \t CA  GLY A 103 \t    1.000\n",
      " CA  ARG A 228 \t CA  GLY A 104 \t    0.451\n",
      " CA  LEU A 229 \t CA  THR A 105 \t    0.771\n",
      " CA  LEU A 230 \t CA  LEU A 106 \t    0.832\n",
      " CA  GLY A 231 \t CA  GLY A 107 \t    0.505\n",
      " CA  LEU A 232 \t CA  VAL A 108 \t    0.437\n",
      " CA  PHE A 233 \t CA  SER A 109 \t    0.784\n",
      " CA  PRO A 234 \t CA  ASP A 110 \t    2.217\n",
      " CA  ASP A 235 \t CA  THR A 111 \t    2.205\n",
      " CA  ALA A 236 \t CA  LYS A 112 \t    1.796\n",
      " CA  ASN A 237 \t CA  GLY A 113 \t    2.389\n",
      " CA  ALA A   1 \t CA  ALA A 114 \t   10.658\n",
      " CA  ASP A   2 \t CA  GLY A 115 \t    6.060\n",
      " CA  THR A   3 \t CA  HIS A 116 \t    1.458\n",
      " CA  ILE A   4 \t CA  PHE A 117 \t    1.046\n",
      " CA  VAL A   5 \t CA  VAL A 118 \t    1.093\n",
      " CA  ALA A   6 \t CA  GLY A 119 \t    0.923\n",
      " CA  VAL A   7 \t CA  VAL A 120 \t    0.882\n",
      " CA  GLU A   8 \t CA  GLU A 121 \t    0.684\n",
      " CA  LEU A   9 \t CA  PHE A 122 \t    0.709\n",
      " CA  ASP A  10 \t CA  ASP A 123 \t    0.129\n",
      " CA  THR A  11 \t CA  THR A 124 \t    0.995\n",
      " CA  TYR A  12 \t CA  TYR A 125 \t    0.977\n",
      " CA  PRO A  13 \t CA  SER A 126 \t    1.572\n",
      " CA  ASN A  14 \t CA  ASN A 127 \t    1.553\n",
      " CA  THR A  15 \t CA  SER A 128 \t    2.378\n",
      " CA  ASP A  16 \t CA  GLU A 129 \t    2.994\n",
      " CA  ILE A  17 \t CA  TYR A 130 \t    1.961\n",
      " CA  GLY A  18 \t CA  ASN A 131 \t    0.514\n",
      " CA  ASP A  19 \t CA  ASP A 132 \t    0.861\n",
      " CA  PRO A  20 \t CA  PRO A 133 \t    1.076\n",
      " CA  SER A  21 \t CA  PRO A 134 \t    0.328\n",
      " CA  TYR A  22 \t CA  THR A 135 \t    0.651\n",
      " CA  PRO A  23 \t CA  ASP A 136 \t    0.846\n",
      " CA  HIS A  24 \t CA  HIS A 137 \t    0.563\n",
      " CA  ILE A  25 \t CA  VAL A 138 \t    0.929\n",
      " CA  GLY A  26 \t CA  GLY A 139 \t    0.526\n",
      " CA  ILE A  27 \t CA  ILE A 140 \t    0.863\n",
      " CA  ASP A  28 \t CA  ASP A 141 \t    0.899\n",
      " CA  ILE A  29 \t CA  VAL A 142 \t    0.593\n",
      " CA  LYS A  30 \t CA  ASN A 143 \t    0.579\n",
      " CA  SER A  31 \t CA  SER A 144 \t    0.540\n",
      " CA  VAL A  32 \t CA  VAL A 145 \t    0.501\n",
      " CA  ARG A  33 \t CA  ASP A 146 \t    0.364\n",
      " CA  SER A  34 \t CA  SER A 147 \t    0.551\n",
      " CA  LYS A  35 \t CA  VAL A 148 \t    0.314\n",
      " CA  LYS A  36 \t CA  LYS A 149 \t    0.417\n",
      " CA  THR A  37 \t CA  THR A 150 \t    0.407\n",
      " CA  ALA A  38 \t CA  VAL A 151 \t    0.528\n",
      " CA  LYS A  39 \t CA  PRO A 152 \t    0.385\n",
      " CA  TRP A  40 \t CA  TRP A 153 \t    0.511\n",
      " CA  ASN A  41 \t CA  ASN A 154 \t    1.216\n",
      " CA  MET A  42 \t CA  SER A 155 \t    1.257\n",
      " CA  GLN A  43 \t CA  VAL A 156 \t    1.459\n",
      " CA  ASP A  44 \t CA  SER A 157 \t    1.183\n",
      " CA  GLY A  45 \t CA  GLY A 158 \t    1.033\n",
      " CA  LYS A  46 \t CA  ALA A 159 \t    1.069\n",
      " CA  VAL A  47 \t CA  VAL A 160 \t    0.773\n",
      " CA  GLY A  48 \t CA  VAL A 161 \t    0.787\n",
      " CA  THR A  49 \t CA  LYS A 162 \t    1.146\n",
      " CA  ALA A  50 \t CA  VAL A 163 \t    1.525\n",
      " CA  HIS A  51 \t CA  THR A 164 \t    1.858\n",
      " CA  ILE A  52 \t CA  VAL A 165 \t    1.584\n",
      " CA  ILE A  53 \t CA  ILE A 166 \t    1.387\n",
      " CA  TYR A  54 \t CA  TYR A 167 \t    1.007\n",
      " CA  ASN A  55 \t CA  ASP A 168 \t    1.337\n",
      " CA  SER A  56 \t CA  SER A 169 \t    1.357\n",
      " CA  VAL A  57 \t CA  SER A 170 \t    0.236\n",
      " CA  ASP A  58 \t CA  THR A 171 \t    1.111\n",
      " CA  LYS A  59 \t CA  LYS A 172 \t    0.633\n",
      " CA  ARG A  60 \t CA  THR A 173 \t    1.158\n",
      " CA  LEU A  61 \t CA  LEU A 174 \t    1.696\n",
      " CA  SER A  62 \t CA  SER A 175 \t    1.741\n",
      " CA  ALA A  63 \t CA  VAL A 176 \t    1.424\n",
      " CA  VAL A  64 \t CA  ALA A 177 \t    2.100\n",
      " CA  VAL A  65 \t CA  VAL A 178 \t    1.585\n",
      " CA  SER A  66 \t CA  THR A 179 \t    1.584\n",
      " CA  TYR A  67 \t CA  ASN A 180 \t    2.402\n",
      " CA  PRO A  68 \t CA  ASP A 181 \t    3.788\n",
      " CA  ALA A  70 \t CA  ASN A 182 \t    2.447\n",
      " CA  ASN A  69 \t CA  GLY A 183 \t    2.552\n",
      " CA  ASP A  71 \t CA  ASP A 184 \t    1.215\n",
      " CA  ALA A  72 \t CA  ILE A 185 \t    1.658\n",
      " CA  THR A  73 \t CA  THR A 186 \t    1.195\n",
      " CA  SER A  74 \t CA  THR A 187 \t    1.225\n",
      " CA  VAL A  75 \t CA  ILE A 188 \t    1.180\n",
      " CA  SER A  76 \t CA  ALA A 189 \t    1.310\n",
      " CA  TYR A  77 \t CA  GLN A 190 \t    1.269\n",
      " CA  ASP A  78 \t CA  VAL A 191 \t    1.213\n",
      " CA  VAL A  79 \t CA  VAL A 192 \t    1.624\n",
      " CA  ASP A  80 \t CA  ASP A 193 \t    1.881\n",
      " CA  LEU A  81 \t CA  LEU A 194 \t    1.859\n",
      " CA  ASN A  82 \t CA  LYS A 195 \t    0.998\n",
      " CA  ASP A  83 \t CA  ALA A 196 \t    0.788\n",
      " CA  VAL A  84 \t CA  LYS A 197 \t    0.470\n",
      " CA  LEU A  85 \t CA  LEU A 198 \t    0.643\n",
      " CA  PRO A  86 \t CA  PRO A 199 \t    0.849\n",
      " CA  GLU A  87 \t CA  GLU A 200 \t    1.086\n",
      " CA  TRP A  88 \t CA  ARG A 201 \t    1.117\n",
      " CA  VAL A  89 \t CA  VAL A 202 \t    0.896\n",
      " CA  ARG A  90 \t CA  LYS A 203 \t    0.959\n",
      " CA  VAL A  91 \t CA  PHE A 204 \t    0.909\n",
      " CA  GLY A  92 \t CA  GLY A 205 \t    0.994\n",
      " CA  LEU A  93 \t CA  PHE A 206 \t    0.732\n",
      " CA  SER A  94 \t CA  SER A 207 \t    0.700\n",
      " CA  ALA A  95 \t CA  ALA A 208 \t    0.783\n",
      " CA  SER A  96 \t CA  SER A 209 \t    0.355\n",
      " CA  THR A  97 \t CA  GLY A 210 \t    0.328\n",
      " CA  GLY A  98 \t CA  SER A 211 \t    0.408\n",
      " CA  GLY A 167 \t CA  LEU A 212 \t    5.459\n",
      " CA  LEU A  99 \t CA  GLY A 213 \t    2.972\n",
      " CA  TYR A 100 \t CA  GLY A 214 \t    0.864\n",
      " CA  LYS A 101 \t CA  ARG A 215 \t    0.521\n",
      " CA  GLU A 102 \t CA  GLN A 216 \t    0.486\n",
      " CA  THR A 103 \t CA  ILE A 217 \t    0.722\n",
      " CA  ASN A 104 \t CA  HIS A 218 \t    0.834\n",
      " CA  THR A 105 \t CA  LEU A 219 \t    0.495\n",
      " CA  ILE A 106 \t CA  ILE A 220 \t    0.904\n",
      " CA  LEU A 107 \t CA  ARG A 221 \t    0.715\n",
      " CA  SER A 108 \t CA  SER A 222 \t    0.421\n",
      " CA  TRP A 109 \t CA  TRP A 223 \t    1.148\n",
      " CA  SER A 110 \t CA  SER A 224 \t    0.978\n",
      " CA  PHE A 111 \t CA  PHE A 225 \t    1.139\n",
      " CA  THR A 112 \t CA  THR A 226 \t    0.997\n",
      " CA  SER A 113 \t CA  SER A 227 \t    0.573\n",
      " CA  LYS A 114 \t CA  THR A 228 \t    0.544\n",
      " CA  LEU A 115 \t CA  LEU A 229 \t    0.648\n",
      " CA  LYS A 116 \t CA  ILE A 230 \t    1.282\n",
      " CA  SER A 117 \t CA  THR A 231 \t    5.012\n",
      " CA  ASN A 118 \t CA  THR A 232 \t    1.994\n",
      "###############\t###############\t#########\n",
      "#Total CPU time is  0.16 seconds\n",
      "------ The rotation matrix to rotate Structure_1 to Structure_2 ------\n",
      "m               t[m]        u[m][0]        u[m][1]        u[m][2]\n",
      "0      29.3946754226   0.0796621080  -0.1057123776   0.9912007071\n",
      "1       5.1576286952   0.9961608745  -0.0277647111  -0.0830218826\n",
      "2      36.8103509432   0.0362968419   0.9940090613   0.1030947391\n",
      "\n",
      "Code for rotating Structure 1 from (x,y,z) to (X,Y,Z):\n",
      "for(i=0; i<L; i++)\n",
      "{\n",
      "   X[i] = t[0] + u[0][0]*x[i] + u[0][1]*y[i] + u[0][2]*z[i];\n",
      "   Y[i] = t[1] + u[1][0]*x[i] + u[1][1]*y[i] + u[1][2]*z[i];\n",
      "   Z[i] = t[2] + u[2][0]*x[i] + u[2][1]*y[i] + u[2][2]*z[i];\n",
      "}\n",
      "\n"
     ]
    }
   ],
   "source": [
    "# creating a string that mirrors those created during the SAFA alignment dask workflow. \n",
    "log_file = './USalignParser/examples/example_output/3cnaA_to_2pelA_USalign_sNS.log'\n",
    "with open(log_file,'r') as log:\n",
    "    log_string = log.read()\n",
    "# this is the log file saved in a string object; in the workflow, the string object would \n",
    "# be the standard out from the subprocess.run of the US-align bash scripts\n",
    "print(log_string)"
   ]
  },
  {
   "cell_type": "code",
   "execution_count": 9,
   "id": "b8d17d6c",
   "metadata": {},
   "outputs": [
    {
     "name": "stdout",
     "output_type": "stream",
     "text": [
      "0.89227 0.91045 1.93\n"
     ]
    }
   ],
   "source": [
    "import io\n",
    "# create the fake file object\n",
    "log_file = io.StringIO(log_string)\n",
    "# use the file object as input to the parse_usalign_file function\n",
    "result_dict, start, stop, return_code = parse_usalign_file(log_file,'sNS')\n",
    "\n",
    "print(result_dict['TMscore1'],result_dict['TMscore2'],result_dict['RMSD'])"
   ]
  },
  {
   "cell_type": "markdown",
   "id": "fdff3a34",
   "metadata": {},
   "source": [
    "### ``threshold_comparison`` function\n",
    "\n",
    "The comparison of quantitative metric(s) can be performed to determine if an alignment is sufficiently high-quality to warrent further consideration. Numerous metrics can be used to make that decision. If an alignment's result passes the cutoff, the ``threshold_comparison`` function returns 1 (integer True); else, it will return 0 (integer False). "
   ]
  },
  {
   "cell_type": "code",
   "execution_count": 10,
   "id": "730a5ed8",
   "metadata": {},
   "outputs": [
    {
     "name": "stdout",
     "output_type": "stream",
     "text": [
      "1, alignment does pass the cutoff of 0.7 on the avgtmscore\n",
      "0, alignment does NOT pass the cutoff of 0.99 on the avgtmscore\n"
     ]
    }
   ],
   "source": [
    "threshold_value = 0.7\n",
    "metric = 'avgtmscore'\n",
    "\n",
    "threshold_bool = threshold_comparison(result_dict, metric, threshold_value)\n",
    "if threshold_bool:\n",
    "    print(f'{threshold_bool}, alignment does pass the cutoff of {threshold_value} on the {metric}')\n",
    "else:\n",
    "    print(f'{threshold_bool}, alignment does NOT pass the cutoff of {threshold_value} on the {metric}')\n",
    "    \n",
    "threshold_value = 0.99\n",
    "threshold_bool = threshold_comparison(result_dict, metric, threshold_value)\n",
    "if threshold_bool:\n",
    "    print(f'{threshold_bool}, alignment does pass the cutoff of {threshold_value} on the {metric}')\n",
    "else:\n",
    "    print(f'{threshold_bool}, alignment does NOT pass the cutoff of {threshold_value} on the {metric}')"
   ]
  },
  {
   "cell_type": "markdown",
   "id": "9b492e0a",
   "metadata": {},
   "source": [
    "Many metrics are currently handled, all focusing on the TMscore values from the alignment. Any capitalization of 'mintmscore', 'maxtmscore', 'tmscore1', 'tmscore2', 'avgtmscore'. "
   ]
  },
  {
   "cell_type": "code",
   "execution_count": 11,
   "id": "a0bcb035",
   "metadata": {},
   "outputs": [
    {
     "name": "stdout",
     "output_type": "stream",
     "text": [
      "0, alignment does NOT pass the cutoff of 0.9 on the mintmscore\n",
      "1, alignment does pass the cutoff of 0.9 on the MaXtMsCoRe\n",
      "0, alignment does NOT pass the cutoff of 0.9 on the TMscore1\n",
      "1, alignment does pass the cutoff of 0.9 on the TMscore2\n"
     ]
    }
   ],
   "source": [
    "threshold_value = 0.9\n",
    "\n",
    "metric = 'mintmscore'\n",
    "threshold_bool = threshold_comparison(result_dict, metric, threshold_value)\n",
    "if threshold_bool:\n",
    "    print(f'{threshold_bool}, alignment does pass the cutoff of {threshold_value} on the {metric}')\n",
    "else:\n",
    "    print(f'{threshold_bool}, alignment does NOT pass the cutoff of {threshold_value} on the {metric}')\n",
    "\n",
    "metric = 'MaXtMsCoRe'\n",
    "threshold_bool = threshold_comparison(result_dict, metric, threshold_value)\n",
    "if threshold_bool:\n",
    "    print(f'{threshold_bool}, alignment does pass the cutoff of {threshold_value} on the {metric}')\n",
    "else:\n",
    "    print(f'{threshold_bool}, alignment does NOT pass the cutoff of {threshold_value} on the {metric}')\n",
    "\n",
    "metric = 'TMscore1'\n",
    "threshold_bool = threshold_comparison(result_dict, metric, threshold_value)\n",
    "if threshold_bool:\n",
    "    print(f'{threshold_bool}, alignment does pass the cutoff of {threshold_value} on the {metric}')\n",
    "else:\n",
    "    print(f'{threshold_bool}, alignment does NOT pass the cutoff of {threshold_value} on the {metric}')\n",
    "\n",
    "metric = 'TMscore2'\n",
    "threshold_bool = threshold_comparison(result_dict, metric, threshold_value)\n",
    "if threshold_bool:\n",
    "    print(f'{threshold_bool}, alignment does pass the cutoff of {threshold_value} on the {metric}')\n",
    "else:\n",
    "    print(f'{threshold_bool}, alignment does NOT pass the cutoff of {threshold_value} on the {metric}')\n"
   ]
  },
  {
   "cell_type": "markdown",
   "id": "d2f11365",
   "metadata": {},
   "source": [
    "With the boolean value, IO of results can be gated for alignments that surpass the threshold."
   ]
  }
 ],
 "metadata": {
  "kernelspec": {
   "display_name": "Python 3 (ipykernel)",
   "language": "python",
   "name": "python3"
  },
  "language_info": {
   "codemirror_mode": {
    "name": "ipython",
    "version": 3
   },
   "file_extension": ".py",
   "mimetype": "text/x-python",
   "name": "python",
   "nbconvert_exporter": "python",
   "pygments_lexer": "ipython3",
   "version": "3.9.15"
  }
 },
 "nbformat": 4,
 "nbformat_minor": 5
}
